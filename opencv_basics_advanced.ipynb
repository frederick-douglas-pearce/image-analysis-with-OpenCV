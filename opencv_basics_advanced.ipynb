{
 "cells": [
  {
   "cell_type": "markdown",
   "id": "3142aa8e-b541-42db-a0bb-4c986e33b175",
   "metadata": {},
   "source": [
    "# Introduction\n",
    "This notebook provides a quick learning resource for manipulating image data with OpenCV, following the Basics and Advanced sections of this youtube video: https://www.youtube.com/watch?v=oXlwWbU8l2o\n",
    "\n",
    "Images of the Sun are used as examples, which can be downloaded for a given year, e.g. 2021, using a link similar to the following: https://spaceweather.com/images2021/. Of course, any image will do, just place the image file(s) in a folder on your file system, and provide the appropriate data_dir and image_files string values below. It is helpful to have several different images to test with.\n",
    "\n",
    "## References\n",
    "- https://pypi.org/project/opencv-python/\n",
    "- https://theailearner.com/2018/10/15/creating-video-from-images-using-opencv-python/\n",
    "- https://forums.developer.nvidia.com/t/python-what-is-the-four-characters-fourcc-code-for-mp4-encoding-on-tx2/57701/6\n",
    "- https://www.pyimagesearch.com/2015/04/06/zero-parameter-automatic-canny-edge-detection-with-python-and-opencv/\n",
    "- https://docs.opencv.org/4.5.1/d9/d8b/tutorial_py_contours_hierarchy.html\n",
    "- "
   ]
  },
  {
   "cell_type": "code",
   "execution_count": 1,
   "id": "c9c3193a-4c55-406c-8bca-70f7563a7b16",
   "metadata": {},
   "outputs": [],
   "source": [
    "# Import packages\n",
    "import cv2 as cv\n",
    "import matplotlib.pyplot as plt\n",
    "import numpy as np\n",
    "%matplotlib inline"
   ]
  },
  {
   "cell_type": "code",
   "execution_count": 2,
   "id": "c9ea88c6-cb42-4320-87d8-1f2693214f56",
   "metadata": {},
   "outputs": [],
   "source": [
    "# Set parameters\n",
    "# data_dir: a string containing the directory where image files are located\n",
    "# image_files: a list containing strings, with each string specifying the name of an image file, including extension\n",
    "# image_index: an integer that specifies which image_file value to analyze in the code blocks below\n",
    "# Note that os.listdir or glob could also be used to obtain a list of all files in data_dir\n",
    "data_dir = \"/home/fdpearce/Documents/Projects/data/Images/Sun/\"\n",
    "image_files = [\"20aug21_hmi4096_blank.jpg\", \"21aug21_hmi4096_blank.jpg\", \"22aug21_hmi4096_blank.jpg\", \"23aug21_hmi4096_blank.jpg\", \\\n",
    "               \"24aug21_hmi4096_blank.jpg\", \"25aug21_hmi4096_blank.jpg\", \"26aug21_hmi4096_blank.jpg\", \"27aug21_hmi4096_blank.jpg\", \\\n",
    "               \"28aug21_hmi4096_blank.jpg\", \"29aug21_hmi4096_blank.jpg\", \"30aug21_hmi4096_blank.jpg\", \"31aug21_hmi4096_blank.jpg\", \\\n",
    "               \"01sep21_hmi4096_blank.jpg\", \"02sep21_hmi4096_blank.jpg\", \"03sep21_hmi4096_blank.jpg\", \"04sep21_hmi4096_blank.jpg\", \\\n",
    "               \"05sep21_hmi4096_blank.jpg\"]\n",
    "image_index = 0"
   ]
  },
  {
   "cell_type": "code",
   "execution_count": 3,
   "id": "e0498462-cc5f-4d9f-b23a-e687928043d5",
   "metadata": {
    "tags": []
   },
   "outputs": [],
   "source": [
    "# Define functions\n",
    "def resize_frame(frame, scale=0.5, interp_method = cv.INTER_AREA):\n",
    "    width = int(frame.shape[1]*scale)\n",
    "    height = int(frame.shape[0]*scale)\n",
    "    return cv.resize(frame, (width, height), interpolation=interp_method)\n",
    "\n",
    "def translate_frame(frame, x, y):\n",
    "    \"\"\"Translate an image frame by pixel values (x, y) where\n",
    "    -x value ---> Left\n",
    "    -y value ---> Up\n",
    "    x value ---> Right\n",
    "    y value ---> Down\n",
    "    \"\"\"\n",
    "    trans_mat = np.float32([[1, 0, x], [0, 1, y]])\n",
    "    dimensions = (frame.shape[1], frame.shape[0])\n",
    "    return cv.warpAffine(frame, trans_mat, dimensions)\n",
    "\n",
    "def rotate_frame(frame, rotation_angle, rotation_point=None):\n",
    "    \"\"\"Rotate an image frame by rotation_angle degrees where\n",
    "    -rotation_angle value ---> clockwise\n",
    "    \"\"\"\n",
    "    h, w = frame.shape[:2]\n",
    "    if rotation_point is None:\n",
    "        rotation_point = (w//2, h//2)\n",
    "    rotation_matrix = cv.getRotationMatrix2D(rotation_point, rotation_angle, 1.0)\n",
    "    return cv.warpAffine(frame, rotation_matrix, (w, h))\n",
    "\n",
    "def flip_frame(frame, flip_code):\n",
    "    \"\"\"Flip an image frame using flip_code where\n",
    "    flip_code = 0 ---> vertical\n",
    "    flip_code = 1 ---> horizontal\n",
    "    flip_code = -1 ---> both vertical and horizontal\n",
    "    \"\"\"\n",
    "    return cv.flip(frame, flip_code)\n",
    "\n",
    "# See www.pyimagesearch.com link in References\n",
    "def edges_canny_auto(frame, median_ratio=0.33):\n",
    "    m = np.median(frame)\n",
    "    l = int(max(0, (1.0-median_ratio)*m))\n",
    "    h = int(min(255, (1.0-median_ratio)*m))\n",
    "    return cv.Canny(frame, l, h)\n",
    "\n",
    "def print_frame_info(frame, frame_desc=\"\"):\n",
    "    print(f\"{frame_desc} Image Shape: Height={frame.shape[0]}, Width={frame.shape[1]}, Channels={frame.shape[2]}\")\n",
    "\n",
    "def show_frame(frame, frame_title):\n",
    "    cv.imshow(frame_title, frame)\n",
    "    cv.waitKey(0)\n",
    "    cv.destroyAllWindows()\n",
    "    \n",
    "def get_hist_params(hist_params, plot_params=None):\n",
    "    \"\"\"Return a dictionary containing parameters for calculating and plotting histograms using OpenCV. This\n",
    "    function defines default parameter values, then updates them based on user input to the function, and finally\n",
    "    it does error checking to identify incomplete or erroneous input parameters from the user.\n",
    "    \"\"\"\n",
    "    # Default values for all parameters, except 'images', which MUST be provided by user\n",
    "    params = {\n",
    "        'hist': {\n",
    "            'images': None,\n",
    "            'channels': [0],\n",
    "            'mask': None,\n",
    "            'histSize': [256],\n",
    "            'ranges': [0, 256]\n",
    "        },\n",
    "        'plot': {\n",
    "            'figsize': (10, 8),\n",
    "            'title': \"Image Histogram\",\n",
    "            'xlabel': \"Bins\",\n",
    "            'ylabel': \"# of Pixels\",\n",
    "            # Specify color code for each channel: MUST have same length as hist 'channels' list above\n",
    "            'channel_colors': [\"k\"]\n",
    "        }\n",
    "    }\n",
    "    if 'images' not in hist_params:\n",
    "        raise KeyError(\"Missing 'images' key containing a list of images, the only required key/value pair in hist_params\")\n",
    "    # Update param dicts based on user input\n",
    "    if hist_params:\n",
    "        try:\n",
    "            params['hist'].update(hist_params)\n",
    "        except Exception as e:\n",
    "            print(e)\n",
    "    if plot_params:\n",
    "        try:\n",
    "            params['plot'].update(plot_params)\n",
    "        except Exception as e:\n",
    "            print(e)\n",
    "    num_channels = len(params['hist']['channels'])\n",
    "    num_chancols = len(params['plot']['channel_colors'])\n",
    "    if num_chancols != num_channels:\n",
    "        raise ValueError(f\"# of input channels ({num_channels}) MUST equal # of input channel_colors ({num_chancols})\")\n",
    "    return params\n",
    "\n",
    "def create_figure_axis(**params):\n",
    "    plt.figure(figsize=params['figsize'])\n",
    "    plt.title(params['title'])\n",
    "    plt.xlabel(params['xlabel'])\n",
    "    plt.ylabel(params['ylabel'])\n",
    "    \n",
    "def calc_plot_histogram(hist, plot):\n",
    "    for cha, col in zip(hist['channels'], plot['channel_colors']):\n",
    "        col_hist = cv.calcHist(hist['images'], [cha], hist['mask'], hist['histSize'], hist['ranges'])\n",
    "        plt.plot(col_hist, color=col)\n",
    "        plt.xlim(hist['ranges'])\n",
    "\n",
    "def plot_frame_histogram(hist_params, plot_params=None):\n",
    "    params = get_hist_params(hist_params, plot_params)\n",
    "    create_figure_axis(**params['plot'])\n",
    "    calc_plot_histogram(**params)\n"
   ]
  },
  {
   "cell_type": "markdown",
   "id": "04e0be9d-871b-4520-a0ba-ffcefb4bcbfc",
   "metadata": {},
   "source": [
    "## Basics "
   ]
  },
  {
   "cell_type": "markdown",
   "id": "4c94576f-cc6b-402f-8947-bd3d31a14b5c",
   "metadata": {
    "tags": []
   },
   "source": [
    "### 1. Read and Resize an Image/Video Frame"
   ]
  },
  {
   "cell_type": "code",
   "execution_count": 4,
   "id": "856b70e6-0b63-43ef-af6c-9d32a5c80b4f",
   "metadata": {},
   "outputs": [],
   "source": [
    "# Read in an example image to use for testing\n",
    "img = cv.imread(data_dir+image_files[image_index])\n",
    "img_orig = img.copy()"
   ]
  },
  {
   "cell_type": "code",
   "execution_count": 5,
   "id": "61e505d8-c32a-4a9f-92fd-6a835d25c680",
   "metadata": {},
   "outputs": [],
   "source": [
    "resize_scale = .25\n",
    "img_resize = resize_frame(img, scale=resize_scale)"
   ]
  },
  {
   "cell_type": "code",
   "execution_count": 6,
   "id": "2ffcfd7e-385f-4c2d-8d64-5326e9ce0c0b",
   "metadata": {},
   "outputs": [],
   "source": [
    "show_frame(img_resize, \"Resized Sun Image\")"
   ]
  },
  {
   "cell_type": "code",
   "execution_count": 7,
   "id": "b6d9c1c7-51d6-4deb-92a9-c9fc0e45a4ab",
   "metadata": {},
   "outputs": [
    {
     "name": "stdout",
     "output_type": "stream",
     "text": [
      "Original Image Shape: Height=4096, Width=4096, Channels=3\n",
      "Resized Image Shape: Height=1024, Width=1024, Channels=3\n"
     ]
    }
   ],
   "source": [
    "print_frame_info(img, \"Original\")\n",
    "print_frame_info(img_resize, \"Resized\")"
   ]
  },
  {
   "cell_type": "markdown",
   "id": "34ba0d96-3f51-41e0-8225-1072bf6771fa",
   "metadata": {},
   "source": [
    "### 2. Draw Circle on Image/Video Frame"
   ]
  },
  {
   "cell_type": "code",
   "execution_count": 8,
   "id": "57e8a69e-60c4-4bda-8539-da9ac27dc759",
   "metadata": {},
   "outputs": [],
   "source": [
    "# Distance dimensions are in pixels (i.e. int)\n",
    "circle_size = (img_resize.shape[1]//2, img_resize.shape[0]//2)\n",
    "circle_radius = 472\n",
    "circle_color = (0, 0, 255)\n",
    "circle_thickness = 2\n",
    "img_circle = cv.circle(img_resize.copy(), circle_size, circle_radius, circle_color, thickness=circle_thickness)"
   ]
  },
  {
   "cell_type": "code",
   "execution_count": 9,
   "id": "e60af35d-d7b4-4c96-abfe-3376f971ad00",
   "metadata": {},
   "outputs": [],
   "source": [
    "show_frame(img_circle, \"Resized Sun Image w/ Circle\")"
   ]
  },
  {
   "cell_type": "markdown",
   "id": "da3785c5-5b6a-47ef-99c6-3ea57e9be752",
   "metadata": {},
   "source": [
    "### 3. Draw Text on Image/Video Frame"
   ]
  },
  {
   "cell_type": "code",
   "execution_count": 10,
   "id": "f9074867-14d5-43dd-86ab-2e78563cd049",
   "metadata": {},
   "outputs": [],
   "source": [
    "text_str = \"Circle Center\"\n",
    "text_loc = (img_resize.shape[1]//2, img_resize.shape[0]//2)\n",
    "text_font = cv.FONT_HERSHEY_TRIPLEX\n",
    "text_scale = 1\n",
    "text_color = (255, 0, 0)\n",
    "text_thickness = 2\n",
    "img_text = cv.putText(img_circle.copy(), text_str, text_loc, text_font, text_scale, text_color, text_thickness)"
   ]
  },
  {
   "cell_type": "code",
   "execution_count": 11,
   "id": "617c51be-7489-4d54-a687-2a750cbf69f0",
   "metadata": {},
   "outputs": [],
   "source": [
    "show_frame(img_text, \"Resized Sun Image w/ Circle + Text\")"
   ]
  },
  {
   "cell_type": "markdown",
   "id": "18206a2f-75a6-412d-b31e-dc3c22155f20",
   "metadata": {},
   "source": [
    "### 4. Convert to Grayscale"
   ]
  },
  {
   "cell_type": "code",
   "execution_count": 12,
   "id": "79e15ff5-0b40-4eb2-a742-28dba868a048",
   "metadata": {},
   "outputs": [],
   "source": [
    "# Use the raw, resized sun image for subsequent analysis, e.g. edge detection, contours, etc\n",
    "gray = cv.cvtColor(img_resize.copy(), cv.COLOR_BGR2GRAY)"
   ]
  },
  {
   "cell_type": "code",
   "execution_count": 13,
   "id": "ffee92a0-2d3e-4fd9-b007-b30b5a1fece8",
   "metadata": {},
   "outputs": [],
   "source": [
    "show_frame(gray, \"Resized Sun Image w/ Circle + Text in Grayscale\")"
   ]
  },
  {
   "cell_type": "markdown",
   "id": "1c64ed95-f21a-40a6-800f-15e29da8ef1a",
   "metadata": {},
   "source": [
    "### 5. Blur an Image"
   ]
  },
  {
   "cell_type": "code",
   "execution_count": 14,
   "id": "f6103432-e47d-412d-b425-4199e0af9e2f",
   "metadata": {},
   "outputs": [],
   "source": [
    "blur_kernal_size = (3, 3)\n",
    "blur_border = cv.BORDER_DEFAULT\n",
    "blur = cv.GaussianBlur(gray.copy(), blur_kernal_size, blur_border)"
   ]
  },
  {
   "cell_type": "code",
   "execution_count": 15,
   "id": "d5b3e4fa-392b-44a6-9903-29a3226d5055",
   "metadata": {},
   "outputs": [],
   "source": [
    "show_frame(blur, \"Blurred, Resized Sun Image w/ Circle + Text in Grayscale\")"
   ]
  },
  {
   "cell_type": "markdown",
   "id": "a6f876ab-d670-4b8e-a8c8-04e26ba992b7",
   "metadata": {},
   "source": [
    "### 6. Find Edges in an Image"
   ]
  },
  {
   "cell_type": "code",
   "execution_count": 16,
   "id": "403d11cf-6f25-43c2-9bd1-299ac233a75f",
   "metadata": {},
   "outputs": [],
   "source": [
    "threshold1 = 125\n",
    "threshold2 = 175\n",
    "canny = cv.Canny(blur, threshold1, threshold2)"
   ]
  },
  {
   "cell_type": "code",
   "execution_count": 17,
   "id": "88e5f873-aa7f-4612-9ba2-2a6d5bb9a788",
   "metadata": {},
   "outputs": [],
   "source": [
    "show_frame(canny, \"Blurred, Resized Sun Image Edges w/ Circle + Text in Grayscale\")"
   ]
  },
  {
   "cell_type": "markdown",
   "id": "9fc9373b-1554-4412-a677-b7916d1c5999",
   "metadata": {},
   "source": [
    "### 7. Dilate an Image"
   ]
  },
  {
   "cell_type": "code",
   "execution_count": 18,
   "id": "cabf3a11-f69a-497d-ba1a-424c14536c20",
   "metadata": {},
   "outputs": [],
   "source": [
    "dilated_kernal_size = (3, 3)\n",
    "dilated_iterations = 1\n",
    "dilated = cv.dilate(canny, dilated_kernal_size, dilated_iterations)"
   ]
  },
  {
   "cell_type": "code",
   "execution_count": 19,
   "id": "6561910e-27b5-4684-a217-07b4a7655f57",
   "metadata": {},
   "outputs": [],
   "source": [
    "show_frame(dilated, \"Dilated, Resized Sun Image Edges w/ Circle + Text in Grayscale\")"
   ]
  },
  {
   "cell_type": "markdown",
   "id": "6a2d65f5-7d61-4e0f-9f8a-e084dad39019",
   "metadata": {},
   "source": [
    "### 8. Eroding an Image"
   ]
  },
  {
   "cell_type": "code",
   "execution_count": 20,
   "id": "19d9e523-d409-44f0-9626-fbd9a3bdca3b",
   "metadata": {},
   "outputs": [],
   "source": [
    "eroded_kernal_size = (3, 3)\n",
    "eroded_iterations = 1\n",
    "eroded = cv.erode(dilated, eroded_kernal_size, eroded_iterations)"
   ]
  },
  {
   "cell_type": "code",
   "execution_count": 21,
   "id": "fdaf4dd2-f9bd-4946-8dfc-da2fa69b3a79",
   "metadata": {},
   "outputs": [],
   "source": [
    "show_frame(eroded, \"Eroded, Resized Sun Image Edges w/ Circle + Text in Grayscale\")"
   ]
  },
  {
   "cell_type": "markdown",
   "id": "6299e1a7-a899-4625-8e39-518070da717e",
   "metadata": {},
   "source": [
    "### 9. Resize an Image"
   ]
  },
  {
   "cell_type": "code",
   "execution_count": 22,
   "id": "1a95dfa6-1413-4338-b651-7d5c01347352",
   "metadata": {},
   "outputs": [],
   "source": [
    "resized_size = (500, 500)\n",
    "resized_interp = cv.INTER_AREA\n",
    "resized = cv.resize(img_orig, resized_size, interpolation=resized_interp)"
   ]
  },
  {
   "cell_type": "code",
   "execution_count": 23,
   "id": "b146cb09-dd88-440c-9a19-7ba31022b2d5",
   "metadata": {},
   "outputs": [],
   "source": [
    "show_frame(resized, \"Resized Sun Image\")"
   ]
  },
  {
   "cell_type": "markdown",
   "id": "bc0dee52-b949-4b1f-ab40-b28484e1c93e",
   "metadata": {},
   "source": [
    "### 10. Cropping an Image"
   ]
  },
  {
   "cell_type": "code",
   "execution_count": 24,
   "id": "6afc5397-cb3b-4f54-9d80-2863ce65316d",
   "metadata": {},
   "outputs": [],
   "source": [
    "cropped_row_indices = (50, 200)\n",
    "cropped_col_indices = (200, 400)\n",
    "cropped = resized[cropped_row_indices[0]:cropped_row_indices[1], cropped_col_indices[0]:cropped_col_indices[1]]"
   ]
  },
  {
   "cell_type": "code",
   "execution_count": 25,
   "id": "fc2b12a2-7dc6-4554-9aa3-a3e7b12f7d21",
   "metadata": {},
   "outputs": [],
   "source": [
    "show_frame(cropped, \"Cropped Sun Image\")"
   ]
  },
  {
   "cell_type": "markdown",
   "id": "8f2b1718-105d-4f7f-a5b8-3837a82e8fd6",
   "metadata": {},
   "source": [
    "### 11. Translating an Image"
   ]
  },
  {
   "cell_type": "code",
   "execution_count": 26,
   "id": "96259bd6-8f8c-4f1c-aeb9-d1c4c15ff9d6",
   "metadata": {},
   "outputs": [],
   "source": [
    "translated_x = 100\n",
    "translated_y = 50\n",
    "translated = translate_frame(resized.copy(), translated_x, translated_y)"
   ]
  },
  {
   "cell_type": "code",
   "execution_count": 27,
   "id": "d69a8df6-b089-4ff4-8ee8-0acc964d9670",
   "metadata": {},
   "outputs": [],
   "source": [
    "show_frame(translated, \"Translated Sun Image\")"
   ]
  },
  {
   "cell_type": "markdown",
   "id": "dd6b40ee-a558-45d1-806a-fbf5bf1c571d",
   "metadata": {},
   "source": [
    "### 12. Rotating an Image"
   ]
  },
  {
   "cell_type": "code",
   "execution_count": 28,
   "id": "536fd66f-54ae-44e2-8bb3-b989744ed43e",
   "metadata": {},
   "outputs": [],
   "source": [
    "rotated_angle = 45\n",
    "rotated = rotate_frame(translated.copy(), rotated_angle)"
   ]
  },
  {
   "cell_type": "code",
   "execution_count": 29,
   "id": "0dc58dd7-588d-487b-86f5-3e9ce0e8cc33",
   "metadata": {},
   "outputs": [],
   "source": [
    "show_frame(rotated, \"Rotated, Translated Sun Image\")"
   ]
  },
  {
   "cell_type": "markdown",
   "id": "3a923c09-b2d4-4434-960e-9430672387a3",
   "metadata": {},
   "source": [
    "### 13. Flip an Image"
   ]
  },
  {
   "cell_type": "code",
   "execution_count": 30,
   "id": "bc007dd1-b3c6-45f5-96fe-6db04aa683b0",
   "metadata": {},
   "outputs": [],
   "source": [
    "flipped_code = 0\n",
    "flipped = flip_frame(resized.copy(), flipped_code)"
   ]
  },
  {
   "cell_type": "code",
   "execution_count": 31,
   "id": "6c7280e9-9afe-47e9-9886-b198bc7c127b",
   "metadata": {},
   "outputs": [],
   "source": [
    "show_frame(flipped, \"Flipped Sun Image\")"
   ]
  },
  {
   "cell_type": "markdown",
   "id": "ecf96645-4b7a-431c-a7b1-0282fc43c21e",
   "metadata": {},
   "source": [
    "### 14. Find Contours using Canny Edges"
   ]
  },
  {
   "cell_type": "code",
   "execution_count": 32,
   "id": "df978568-7ad3-4608-8ad7-6605b7bd7032",
   "metadata": {},
   "outputs": [],
   "source": [
    "contour_output = cv.RETR_LIST\n",
    "contour_method = cv.CHAIN_APPROX_NONE\n",
    "contours_canny, hierarchies_canny = cv.findContours(canny, contour_output, contour_method)"
   ]
  },
  {
   "cell_type": "code",
   "execution_count": 33,
   "id": "6edf4ead-a029-447a-8b79-3136c586494a",
   "metadata": {},
   "outputs": [
    {
     "name": "stdout",
     "output_type": "stream",
     "text": [
      "18 Contour(s) found\n"
     ]
    },
    {
     "data": {
      "text/plain": [
       "[array([[[  66, 1001]],\n",
       " \n",
       "        [[  67, 1002]],\n",
       " \n",
       "        [[  67, 1001]]], dtype=int32),\n",
       " array([[[ 162,  996]],\n",
       " \n",
       "        [[ 162,  997]],\n",
       " \n",
       "        [[ 162,  998]],\n",
       " \n",
       "        [[ 162,  999]],\n",
       " \n",
       "        [[ 162, 1000]],\n",
       " \n",
       "        [[ 162,  999]],\n",
       " \n",
       "        [[ 162,  998]],\n",
       " \n",
       "        [[ 162,  997]]], dtype=int32)]"
      ]
     },
     "execution_count": 33,
     "metadata": {},
     "output_type": "execute_result"
    }
   ],
   "source": [
    "print(f\"{len(contours_canny)} Contour(s) found\")\n",
    "contours_canny[0:2]"
   ]
  },
  {
   "cell_type": "code",
   "execution_count": 34,
   "id": "65392669-fc7c-4336-9fa6-14befb6c8137",
   "metadata": {},
   "outputs": [
    {
     "data": {
      "text/plain": [
       "array([[ 1, -1, -1, -1],\n",
       "       [ 2,  0, -1, -1],\n",
       "       [ 3,  1, -1, -1],\n",
       "       [ 4,  2, -1, -1],\n",
       "       [ 5,  3, -1, -1]], dtype=int32)"
      ]
     },
     "execution_count": 34,
     "metadata": {},
     "output_type": "execute_result"
    }
   ],
   "source": [
    "hierarchies_canny[0, :5, :]"
   ]
  },
  {
   "cell_type": "markdown",
   "id": "3a515a94-8cb0-465b-b97c-1a15cf473978",
   "metadata": {},
   "source": [
    "### 15. Thresholding an Image"
   ]
  },
  {
   "cell_type": "code",
   "execution_count": 35,
   "id": "14f8cc71-3c9c-40f3-9e30-dc41d9ce1e7c",
   "metadata": {},
   "outputs": [],
   "source": [
    "thresh_cutoff = 125\n",
    "thresh_color = 255\n",
    "thresh_type = cv.THRESH_BINARY\n",
    "ret, thresh = cv.threshold(gray, thresh_cutoff, thresh_color, thresh_type)"
   ]
  },
  {
   "cell_type": "code",
   "execution_count": 36,
   "id": "061dbf31-385d-487c-8876-65c3b9367e57",
   "metadata": {},
   "outputs": [],
   "source": [
    "show_frame(thresh, \"Thresholded Sun Image\")"
   ]
  },
  {
   "cell_type": "markdown",
   "id": "904276ed-1c52-464b-9b5e-6f0dc8c1cb1f",
   "metadata": {},
   "source": [
    "### 16. Find Contours using Thresholded Image"
   ]
  },
  {
   "cell_type": "code",
   "execution_count": 37,
   "id": "e9cb7bef-124f-4856-8664-a25d2fb3f2a5",
   "metadata": {},
   "outputs": [],
   "source": [
    "contour_output = cv.RETR_LIST\n",
    "contour_method = cv.CHAIN_APPROX_NONE\n",
    "contours_thresh, hierarchies_thresh = cv.findContours(thresh, contour_output, contour_method)"
   ]
  },
  {
   "cell_type": "code",
   "execution_count": 38,
   "id": "9bddffe0-6c84-4efa-b50d-8f5fb74995cc",
   "metadata": {},
   "outputs": [
    {
     "name": "stdout",
     "output_type": "stream",
     "text": [
      "7 Contour(s) found\n"
     ]
    },
    {
     "data": {
      "text/plain": [
       "array([[[266, 996]]], dtype=int32)"
      ]
     },
     "execution_count": 38,
     "metadata": {},
     "output_type": "execute_result"
    }
   ],
   "source": [
    "print(f\"{len(contours_thresh)} Contour(s) found\")\n",
    "contours_thresh[0]"
   ]
  },
  {
   "cell_type": "code",
   "execution_count": 39,
   "id": "1908ab40-2229-495a-917d-2b571b0a5100",
   "metadata": {},
   "outputs": [
    {
     "data": {
      "text/plain": [
       "array([[ 1, -1, -1, -1],\n",
       "       [ 2,  0, -1, -1],\n",
       "       [ 3,  1, -1, -1],\n",
       "       [ 4,  2, -1, -1],\n",
       "       [ 5,  3, -1, -1]], dtype=int32)"
      ]
     },
     "execution_count": 39,
     "metadata": {},
     "output_type": "execute_result"
    }
   ],
   "source": [
    "hierarchies_thresh[0, :5, :]"
   ]
  },
  {
   "cell_type": "markdown",
   "id": "8e5f8554-4db1-4563-8b1c-f896be91be85",
   "metadata": {},
   "source": [
    "### 17. Display Contours"
   ]
  },
  {
   "cell_type": "code",
   "execution_count": 40,
   "id": "c22bccb5-2634-4c1f-aeed-17ff98d0c3e2",
   "metadata": {},
   "outputs": [],
   "source": [
    "drawcont_color = (0, 255, 0)\n",
    "drawcont_thickness = 2\n",
    "img_cont = cv.drawContours(img_resize.copy(), contours_canny, -1, drawcont_color, drawcont_thickness)"
   ]
  },
  {
   "cell_type": "code",
   "execution_count": 41,
   "id": "c212f535-7f6a-4547-9aab-344ddfd9b404",
   "metadata": {},
   "outputs": [],
   "source": [
    "show_frame(img_cont, \"Contours of Sun Image\")"
   ]
  },
  {
   "cell_type": "code",
   "execution_count": 42,
   "id": "aedc9fad-40d5-4dbf-954a-d58937fb9615",
   "metadata": {},
   "outputs": [
    {
     "data": {
      "text/plain": [
       "(1024, 1024, 3)"
      ]
     },
     "execution_count": 42,
     "metadata": {},
     "output_type": "execute_result"
    }
   ],
   "source": [
    "img_cont.shape"
   ]
  },
  {
   "cell_type": "markdown",
   "id": "29bb316e-8f51-4764-acc9-3f48b4d9f64c",
   "metadata": {},
   "source": [
    "## Advanced"
   ]
  },
  {
   "cell_type": "markdown",
   "id": "539a5d8c-669c-4d7e-b5cb-4ed08323ced0",
   "metadata": {},
   "source": [
    "### 18. Changing the ColorSpace of an Image"
   ]
  },
  {
   "cell_type": "code",
   "execution_count": 43,
   "id": "c8eea216-19ed-4863-b6be-05d094afb9e9",
   "metadata": {},
   "outputs": [],
   "source": [
    "hsv = cv.cvtColor(img_resize.copy(), cv.COLOR_BGR2HSV)"
   ]
  },
  {
   "cell_type": "code",
   "execution_count": 44,
   "id": "466242fe-3cb4-4d4c-b85d-60b1193252c6",
   "metadata": {},
   "outputs": [],
   "source": [
    "show_frame(hsv, \"Sun Image in HSV\")"
   ]
  },
  {
   "cell_type": "code",
   "execution_count": 45,
   "id": "6d72728c-1f34-46fb-8c4a-3f13811244df",
   "metadata": {},
   "outputs": [],
   "source": [
    "lab = cv.cvtColor(img_resize.copy(), cv.COLOR_BGR2LAB)"
   ]
  },
  {
   "cell_type": "code",
   "execution_count": 46,
   "id": "3e71db91-9e94-4b97-ad8f-5810eb0ebca0",
   "metadata": {},
   "outputs": [],
   "source": [
    "show_frame(lab, \"Sun Image in LAB\")"
   ]
  },
  {
   "cell_type": "markdown",
   "id": "28b0bbc1-5b72-4cdb-a1de-d34baca55ad5",
   "metadata": {},
   "source": [
    "### 19. Split an Image into its Color Channels"
   ]
  },
  {
   "cell_type": "code",
   "execution_count": 47,
   "id": "9d90bcb2-a700-43c7-b981-baeba7eaa79e",
   "metadata": {},
   "outputs": [],
   "source": [
    "b, g, r = cv.split(img_resize.copy())"
   ]
  },
  {
   "cell_type": "code",
   "execution_count": 48,
   "id": "abdf42a0-b195-49ae-8153-5b68495ffaf4",
   "metadata": {},
   "outputs": [],
   "source": [
    "show_frame(b, \"Blue Channel of Sun Image\")"
   ]
  },
  {
   "cell_type": "code",
   "execution_count": 49,
   "id": "b0dae2b6-cd70-4198-a840-ca584fb788d4",
   "metadata": {},
   "outputs": [],
   "source": [
    "show_frame(g, \"Green Channel of Sun Image\")"
   ]
  },
  {
   "cell_type": "code",
   "execution_count": 50,
   "id": "324dac61-7d8a-4834-a4eb-8e6d35cec8f2",
   "metadata": {},
   "outputs": [],
   "source": [
    "show_frame(r, \"Red Channel of Sun Image\")"
   ]
  },
  {
   "cell_type": "code",
   "execution_count": 51,
   "id": "56415d2a-1cd1-4876-8e7f-94123877b493",
   "metadata": {},
   "outputs": [],
   "source": [
    "# Merge channels back together\n",
    "bgr = cv.merge([b, g, r])"
   ]
  },
  {
   "cell_type": "code",
   "execution_count": 52,
   "id": "490dc332-b988-47c2-8956-ec2ea66fe245",
   "metadata": {},
   "outputs": [],
   "source": [
    "show_frame(bgr, \"Merged Sun Image\")"
   ]
  },
  {
   "cell_type": "markdown",
   "id": "d1e77fb1-bf38-472e-b4d0-abe196235ce5",
   "metadata": {},
   "source": [
    "### 20. Blurring an Image (cont)"
   ]
  },
  {
   "cell_type": "code",
   "execution_count": 53,
   "id": "e4c47d8b-caad-4db6-9c21-1184677f7898",
   "metadata": {},
   "outputs": [],
   "source": [
    "avg_kernal = (3, 3)\n",
    "avg = cv.blur(img_resize.copy(), avg_kernal)"
   ]
  },
  {
   "cell_type": "code",
   "execution_count": 54,
   "id": "8049aaa1-8634-4649-b77f-9485ad362912",
   "metadata": {},
   "outputs": [],
   "source": [
    "show_frame(avg, \"Blurred (Avg) Sun Image\")"
   ]
  },
  {
   "cell_type": "code",
   "execution_count": 55,
   "id": "e916960e-1aa5-4a78-aa71-16ed9912a4f8",
   "metadata": {},
   "outputs": [],
   "source": [
    "med_kernal_size = 3\n",
    "med = cv.medianBlur(img_resize.copy(), med_kernal_size)"
   ]
  },
  {
   "cell_type": "code",
   "execution_count": 56,
   "id": "4f521eb0-7493-453c-8b1f-e087baefe557",
   "metadata": {},
   "outputs": [],
   "source": [
    "show_frame(med, \"Blurred (Median) Sun Image\")"
   ]
  },
  {
   "cell_type": "code",
   "execution_count": 57,
   "id": "6c1341c5-e37a-4767-aa45-17e249da91b7",
   "metadata": {},
   "outputs": [],
   "source": [
    "bilat_diam = 5\n",
    "bilat_color = 15\n",
    "bilat_space = 15\n",
    "bilateral = cv.bilateralFilter(img_resize.copy(), bilat_diam, bilat_color, bilat_space)"
   ]
  },
  {
   "cell_type": "code",
   "execution_count": 58,
   "id": "5428f4d1-9b87-42c5-a928-3481a4bb271f",
   "metadata": {},
   "outputs": [],
   "source": [
    "show_frame(bilateral, \"Blurred (Bilateral) Sun Image\")"
   ]
  },
  {
   "cell_type": "markdown",
   "id": "3bdb8ecb-0a7d-4a03-af87-9bb363f31654",
   "metadata": {},
   "source": [
    "### 21. Bitwise Operations"
   ]
  },
  {
   "cell_type": "code",
   "execution_count": 59,
   "id": "50478bfb-f8e4-4d9b-b687-350eeacf7954",
   "metadata": {},
   "outputs": [],
   "source": [
    "blank = np.zeros((400, 400), dtype='uint8')\n",
    "rectange = cv.rectangle(blank.copy(), (30, 30), (370, 370), 255, -1)\n",
    "circle = cv.circle(blank.copy(), (200, 200), 200, 255, -1)"
   ]
  },
  {
   "cell_type": "code",
   "execution_count": 60,
   "id": "5ab8b76d-3cf3-4860-8349-8bab4c4d0e7d",
   "metadata": {},
   "outputs": [],
   "source": [
    "bitwise_and = cv.bitwise_and(rectange, circle)"
   ]
  },
  {
   "cell_type": "code",
   "execution_count": 61,
   "id": "cf0609be-dc5e-4e5c-835b-92df3b01efd2",
   "metadata": {},
   "outputs": [],
   "source": [
    "show_frame(bitwise_and, \"Bitwise AND\")"
   ]
  },
  {
   "cell_type": "code",
   "execution_count": 62,
   "id": "5faacb4c-421d-4f2f-bb72-eba121c4d753",
   "metadata": {},
   "outputs": [],
   "source": [
    "bitwise_or = cv.bitwise_or(rectange, circle)"
   ]
  },
  {
   "cell_type": "code",
   "execution_count": 63,
   "id": "c32a3750-84ad-400c-957f-022dd76ccd38",
   "metadata": {},
   "outputs": [],
   "source": [
    "show_frame(bitwise_or, \"Bitwise OR\")"
   ]
  },
  {
   "cell_type": "code",
   "execution_count": 64,
   "id": "b3b8a534-5545-4b41-95e6-a990a33b501d",
   "metadata": {},
   "outputs": [],
   "source": [
    "bitwise_xor = cv.bitwise_xor(rectange, circle)"
   ]
  },
  {
   "cell_type": "code",
   "execution_count": 65,
   "id": "955ac379-fdad-478a-9596-cfd75df1ce74",
   "metadata": {},
   "outputs": [],
   "source": [
    "show_frame(bitwise_xor, \"Bitwise XOR\")"
   ]
  },
  {
   "cell_type": "code",
   "execution_count": 66,
   "id": "d8827ab0-fdfc-41e6-a8db-515fe8e18b1a",
   "metadata": {},
   "outputs": [],
   "source": [
    "bitwise_not = cv.bitwise_not(rectange)"
   ]
  },
  {
   "cell_type": "code",
   "execution_count": 67,
   "id": "758ff487-193e-4c1f-8aae-36552cad3859",
   "metadata": {},
   "outputs": [],
   "source": [
    "show_frame(bitwise_not, \"Bitwise NOT\")"
   ]
  },
  {
   "cell_type": "markdown",
   "id": "8622cb2e-7cce-4f58-bd50-f3a5ed0df833",
   "metadata": {},
   "source": [
    "### 22. Masking an Image"
   ]
  },
  {
   "cell_type": "code",
   "execution_count": 68,
   "id": "3abf1846-22f0-45db-a5e6-6e7d7c9840c4",
   "metadata": {},
   "outputs": [],
   "source": [
    "mask_circle_radius = 50\n",
    "masked_circle_center_x = 130\n",
    "masked_circle_center_y = -50\n",
    "mask_blank = np.zeros(gray.shape[0:2], dtype='uint8')\n",
    "mask_circle = cv.circle(mask_blank.copy(), (mask_blank.shape[1]//2+masked_circle_center_x, mask_blank.shape[0]//2+masked_circle_center_y), mask_circle_radius, 255, thickness=-1)"
   ]
  },
  {
   "cell_type": "code",
   "execution_count": 69,
   "id": "f373c23b-bf62-4e4e-a05d-bbc82af13fa9",
   "metadata": {},
   "outputs": [],
   "source": [
    "mask_gray = cv.bitwise_and(gray, gray, mask=mask_circle)\n",
    "show_frame(mask_gray, \"Masked Sun Image\")"
   ]
  },
  {
   "cell_type": "code",
   "execution_count": 70,
   "id": "30d5fa9c-b5af-4738-8488-4370d4451c55",
   "metadata": {},
   "outputs": [],
   "source": [
    "mask_bgr = cv.bitwise_and(img_resize, img_resize, mask=mask_circle)\n",
    "show_frame(mask_bgr, \"Masked Sun Image\")"
   ]
  },
  {
   "cell_type": "markdown",
   "id": "4f8aadb6-6b50-4efd-b82e-47df6dcde4f5",
   "metadata": {},
   "source": [
    "### 23. Computing Histograms of Image Pixel Values"
   ]
  },
  {
   "cell_type": "code",
   "execution_count": 71,
   "id": "019b1b55-5f6e-495d-b785-cab2cdec4cfd",
   "metadata": {},
   "outputs": [
    {
     "data": {
      "image/png": "[encoded data removed]",
      "text/plain": [
       "<Figure size 720x576 with 1 Axes>"
      ]
     },
     "metadata": {
      "needs_background": "light"
     },
     "output_type": "display_data"
    }
   ],
   "source": [
    "# Histogram for Grayscale Image\n",
    "plot_frame_histogram({'images': [gray], 'mask': mask_circle})"
   ]
  },
  {
   "cell_type": "code",
   "execution_count": 72,
   "id": "7cda5e7a-84db-403e-ae10-fc013ccdfa62",
   "metadata": {},
   "outputs": [
    {
     "data": {
      "image/png": "[encoded data removed]",
      "text/plain": [
       "<Figure size 720x576 with 1 Axes>"
      ]
     },
     "metadata": {
      "needs_background": "light"
     },
     "output_type": "display_data"
    }
   ],
   "source": [
    "plot_frame_histogram({'images': [img_resize], 'channels': [0, 1, 2], 'mask': mask_circle}, {'channel_colors': ['b', 'g', 'r']})"
   ]
  },
  {
   "cell_type": "markdown",
   "id": "4379706d-8408-4cea-acca-02967114962c",
   "metadata": {},
   "source": [
    "### 24. Adaptive Thresholding of an Image"
   ]
  },
  {
   "cell_type": "code",
   "execution_count": 73,
   "id": "43dbd43f-aed0-4cc1-9754-b8cc7030777b",
   "metadata": {},
   "outputs": [],
   "source": [
    "athresh_maxval = 255\n",
    "athresh_adamethod = cv.ADAPTIVE_THRESH_MEAN_C\n",
    "#athresh_adamethod = cv.ADAPTIVE_THRESH_GAUSSIAN_C\n",
    "athresh_thrmethod = cv.THRESH_BINARY\n",
    "athresh_blocksize = 11\n",
    "athresh_c = 0\n",
    "adaptive_thresh = cv.adaptiveThreshold(gray, athresh_maxval, athresh_adamethod, athresh_thrmethod, athresh_blocksize, athresh_c)"
   ]
  },
  {
   "cell_type": "code",
   "execution_count": 74,
   "id": "f34547d4-455b-45a7-9581-9a69acabd37a",
   "metadata": {},
   "outputs": [],
   "source": [
    "show_frame(adaptive_thresh, \"Adaptive Thresholded Sun Image\")"
   ]
  },
  {
   "cell_type": "markdown",
   "id": "7f39425b-54b8-4eb6-9c97-f15dfbd4bf1a",
   "metadata": {},
   "source": [
    "### 25. Edge Detection in an Image (cont)"
   ]
  },
  {
   "cell_type": "code",
   "execution_count": 75,
   "id": "c1e3d040-7344-4c5b-a86c-ba59e53e6e8a",
   "metadata": {},
   "outputs": [],
   "source": [
    "# Laplacian\n",
    "lap_ddepth = cv.CV_64F\n",
    "lap = cv.Laplacian(gray, lap_ddepth)\n",
    "lap = np.uint8(np.absolute(lap))"
   ]
  },
  {
   "cell_type": "code",
   "execution_count": 76,
   "id": "2e7687bd-3473-4712-8e73-ce70b9f9f297",
   "metadata": {},
   "outputs": [],
   "source": [
    "show_frame(lap, \"Laplacian of Sun Image\")"
   ]
  },
  {
   "cell_type": "code",
   "execution_count": 77,
   "id": "f489cc73-1e49-4d15-9507-e542c3a268e8",
   "metadata": {
    "tags": []
   },
   "outputs": [],
   "source": [
    "# Sobel\n",
    "sob_ddep = cv.CV_64F\n",
    "sobelx = cv.Sobel(gray, sob_ddep, 1, 0)\n",
    "sobely = cv.Sobel(gray, sob_ddep, 0, 1)"
   ]
  },
  {
   "cell_type": "code",
   "execution_count": 78,
   "id": "05c5f1f8-996c-4619-a92f-813b2bb2a9e2",
   "metadata": {},
   "outputs": [],
   "source": [
    "show_frame(sobelx, \"Sobel X of Sun Image\")"
   ]
  },
  {
   "cell_type": "code",
   "execution_count": 79,
   "id": "5d1a1442-1972-449e-9a1d-9b65eec45b86",
   "metadata": {},
   "outputs": [],
   "source": [
    "show_frame(sobely, \"Sobel Y of Sun Image\")"
   ]
  },
  {
   "cell_type": "code",
   "execution_count": 80,
   "id": "898b1083-97f2-40cb-901e-c84aef12349b",
   "metadata": {},
   "outputs": [],
   "source": [
    "combined_sobel = cv.bitwise_or(sobelx, sobely)\n",
    "show_frame(combined_sobel, \"Combined Sobel of Sun Image\")"
   ]
  },
  {
   "cell_type": "code",
   "execution_count": null,
   "id": "2e35270c-ae74-4571-93fd-7dd46f1a875d",
   "metadata": {},
   "outputs": [],
   "source": []
  }
 ],
 "metadata": {
  "kernelspec": {
   "display_name": "Python 3 (ipykernel)",
   "language": "python",
   "name": "python3"
  },
  "language_info": {
   "codemirror_mode": {
    "name": "ipython",
    "version": 3
   },
   "file_extension": ".py",
   "mimetype": "text/x-python",
   "name": "python",
   "nbconvert_exporter": "python",
   "pygments_lexer": "ipython3",
   "version": "3.8.10"
  }
 },
 "nbformat": 4,
 "nbformat_minor": 5
}
